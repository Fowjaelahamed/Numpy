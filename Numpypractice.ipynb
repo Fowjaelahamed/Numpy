{
  "nbformat": 4,
  "nbformat_minor": 0,
  "metadata": {
    "colab": {
      "name": "Numpypractice.ipynb",
      "version": "0.3.2",
      "provenance": [],
      "collapsed_sections": [],
      "include_colab_link": true
    },
    "kernelspec": {
      "name": "python3",
      "display_name": "Python 3"
    }
  },
  "cells": [
    {
      "cell_type": "markdown",
      "metadata": {
        "id": "view-in-github",
        "colab_type": "text"
      },
      "source": [
        "<a href=\"https://colab.research.google.com/github/Fowjaelahamed/Numpy/blob/master/Numpypractice.ipynb\" target=\"_parent\"><img src=\"https://colab.research.google.com/assets/colab-badge.svg\" alt=\"Open In Colab\"/></a>"
      ]
    },
    {
      "metadata": {
        "id": "UJgm8SK3sSgZ",
        "colab_type": "text"
      },
      "cell_type": "markdown",
      "source": [
        "# Loading Numpy Library"
      ]
    },
    {
      "metadata": {
        "id": "_jS7Cf4Kp9V2",
        "colab_type": "code",
        "colab": {}
      },
      "cell_type": "code",
      "source": [
        "import numpy as np\n",
        "import matplotlib.pyplot as plt"
      ],
      "execution_count": 0,
      "outputs": []
    },
    {
      "metadata": {
        "id": "_2gNdlFhsXxw",
        "colab_type": "text"
      },
      "cell_type": "markdown",
      "source": [
        "# Create array from python list in Numpy"
      ]
    },
    {
      "metadata": {
        "id": "dL0qmD2RriRc",
        "colab_type": "code",
        "colab": {
          "base_uri": "https://localhost:8080/",
          "height": 35
        },
        "outputId": "c6e59f59-42da-4061-c9a1-45816759be9c"
      },
      "cell_type": "code",
      "source": [
        "l = [1,2,3,4]\n",
        "arr = np.array(l)\n",
        "arr"
      ],
      "execution_count": 5,
      "outputs": [
        {
          "output_type": "execute_result",
          "data": {
            "text/plain": [
              "array([1, 2, 3, 4])"
            ]
          },
          "metadata": {
            "tags": []
          },
          "execution_count": 5
        }
      ]
    },
    {
      "metadata": {
        "id": "VcJ_SqN0sGor",
        "colab_type": "code",
        "colab": {
          "base_uri": "https://localhost:8080/",
          "height": 35
        },
        "outputId": "ed9b123c-55b1-48b4-ec3f-c20b95afa49b"
      },
      "cell_type": "code",
      "source": [
        "type(arr)"
      ],
      "execution_count": 6,
      "outputs": [
        {
          "output_type": "execute_result",
          "data": {
            "text/plain": [
              "numpy.ndarray"
            ]
          },
          "metadata": {
            "tags": []
          },
          "execution_count": 6
        }
      ]
    },
    {
      "metadata": {
        "id": "AiJ-NSPnsjDG",
        "colab_type": "code",
        "colab": {
          "base_uri": "https://localhost:8080/",
          "height": 69
        },
        "outputId": "dc82d599-faef-4e75-b59f-fe2fe228e827"
      },
      "cell_type": "code",
      "source": [
        "np.mat(\"1 2;3 4;5 6\")"
      ],
      "execution_count": 7,
      "outputs": [
        {
          "output_type": "execute_result",
          "data": {
            "text/plain": [
              "matrix([[1, 2],\n",
              "        [3, 4],\n",
              "        [5, 6]])"
            ]
          },
          "metadata": {
            "tags": []
          },
          "execution_count": 7
        }
      ]
    },
    {
      "metadata": {
        "id": "RhAkUgyOs2O_",
        "colab_type": "code",
        "colab": {
          "base_uri": "https://localhost:8080/",
          "height": 69
        },
        "outputId": "4153893f-ef66-4a17-b8e5-e8f87bf8ac2e"
      },
      "cell_type": "code",
      "source": [
        "np.array(np.mat(\"1 2;3 4;5 6\"))"
      ],
      "execution_count": 8,
      "outputs": [
        {
          "output_type": "execute_result",
          "data": {
            "text/plain": [
              "array([[1, 2],\n",
              "       [3, 4],\n",
              "       [5, 6]])"
            ]
          },
          "metadata": {
            "tags": []
          },
          "execution_count": 8
        }
      ]
    },
    {
      "metadata": {
        "id": "ULhgKnJYtsJ3",
        "colab_type": "text"
      },
      "cell_type": "markdown",
      "source": [
        "# Type Precedence (less priority to high priority)\n",
        "\n",
        "*   Bool\n",
        "*   Int\n",
        "\n",
        "*   Float\n",
        "*   String"
      ]
    },
    {
      "metadata": {
        "id": "XAfquRdRuc-E",
        "colab_type": "code",
        "colab": {
          "base_uri": "https://localhost:8080/",
          "height": 35
        },
        "outputId": "0e6b33da-888d-4d7e-b579-aedaf0bcb3e6"
      },
      "cell_type": "code",
      "source": [
        "l = [1,2,3.0]\n",
        "l"
      ],
      "execution_count": 9,
      "outputs": [
        {
          "output_type": "execute_result",
          "data": {
            "text/plain": [
              "[1, 2, 3.0]"
            ]
          },
          "metadata": {
            "tags": []
          },
          "execution_count": 9
        }
      ]
    },
    {
      "metadata": {
        "id": "-hYfBWt9upKL",
        "colab_type": "code",
        "colab": {
          "base_uri": "https://localhost:8080/",
          "height": 35
        },
        "outputId": "ab2ad47e-8e7d-4951-daf5-400e03af2f0c"
      },
      "cell_type": "code",
      "source": [
        "a = np.array([1,2,3.0]) #all value will be converted in float\n",
        "a"
      ],
      "execution_count": 13,
      "outputs": [
        {
          "output_type": "execute_result",
          "data": {
            "text/plain": [
              "array([1., 2., 3.])"
            ]
          },
          "metadata": {
            "tags": []
          },
          "execution_count": 13
        }
      ]
    },
    {
      "metadata": {
        "id": "AHxlfO5UutvM",
        "colab_type": "code",
        "colab": {
          "base_uri": "https://localhost:8080/",
          "height": 87
        },
        "outputId": "533c0f68-7ad5-449f-e7d3-66e0f33b4fe4"
      },
      "cell_type": "code",
      "source": [
        "print(np.array([1,2,3],dtype=float)) #all will converted in float\n",
        "print(np.array([1,2,3],dtype=\"U\"))  #all will converted in unicode that means in string\n",
        "print(np.array([12345,2,3],dtype=\"<U2\"))   #all will converted in unicode but it's len will be less than or equal to 2.\n",
        "print(np.array([1,2,3],dtype=complex))     #all will converted in complex number"
      ],
      "execution_count": 19,
      "outputs": [
        {
          "output_type": "stream",
          "text": [
            "[1. 2. 3.]\n",
            "['1' '2' '3']\n",
            "['12' '2' '3']\n",
            "[1.+0.j 2.+0.j 3.+0.j]\n"
          ],
          "name": "stdout"
        }
      ]
    },
    {
      "metadata": {
        "id": "hKlq6U2jwP4W",
        "colab_type": "code",
        "colab": {}
      },
      "cell_type": "code",
      "source": [
        "x = np.array([(\"rakib\",21, 10000.0),(\"ash\",23,21000.0)],dtype=[(\"name\",\"<U11\"),(\"age\",\"int32\"),(\"salary\",\"<f4\")])"
      ],
      "execution_count": 0,
      "outputs": []
    },
    {
      "metadata": {
        "id": "nWDmzMBsxzew",
        "colab_type": "code",
        "colab": {
          "base_uri": "https://localhost:8080/",
          "height": 52
        },
        "outputId": "1a825461-1693-49c9-d1fb-5b48200308ea"
      },
      "cell_type": "code",
      "source": [
        "print(\"Row 1\",x[0])\n",
        "print(\"Row 2\",x[1])"
      ],
      "execution_count": 21,
      "outputs": [
        {
          "output_type": "stream",
          "text": [
            "Row 1 ('rakib', 21, 10000.)\n",
            "Row 2 ('ash', 23, 21000.)\n"
          ],
          "name": "stdout"
        }
      ]
    },
    {
      "metadata": {
        "id": "qa7NC3f1y-cY",
        "colab_type": "text"
      },
      "cell_type": "markdown",
      "source": [
        "# Two Dimensional array"
      ]
    },
    {
      "metadata": {
        "id": "9NgQHv3IzBxs",
        "colab_type": "code",
        "colab": {
          "base_uri": "https://localhost:8080/",
          "height": 35
        },
        "outputId": "2efdcf5d-d258-47bd-92a2-511d24843016"
      },
      "cell_type": "code",
      "source": [
        "[(1,2,3),(4,5,6)]"
      ],
      "execution_count": 22,
      "outputs": [
        {
          "output_type": "execute_result",
          "data": {
            "text/plain": [
              "[(1, 2, 3), (4, 5, 6)]"
            ]
          },
          "metadata": {
            "tags": []
          },
          "execution_count": 22
        }
      ]
    },
    {
      "metadata": {
        "id": "QwPMRE35zVHn",
        "colab_type": "code",
        "colab": {
          "base_uri": "https://localhost:8080/",
          "height": 69
        },
        "outputId": "c9aa0e96-35b9-4e5e-baef-db3c5d9af625"
      },
      "cell_type": "code",
      "source": [
        "twoarray = np.array([(1,2,3),(4,5,6),(7,8,9)])\n",
        "print(twoarray)"
      ],
      "execution_count": 24,
      "outputs": [
        {
          "output_type": "stream",
          "text": [
            "[[1 2 3]\n",
            " [4 5 6]\n",
            " [7 8 9]]\n"
          ],
          "name": "stdout"
        }
      ]
    },
    {
      "metadata": {
        "id": "svurP--Zzf_l",
        "colab_type": "code",
        "colab": {
          "base_uri": "https://localhost:8080/",
          "height": 87
        },
        "outputId": "ecddc9eb-a8b9-40f8-d67d-d602f121f9fb"
      },
      "cell_type": "code",
      "source": [
        "print(\"shape of 2D array is :\",twoarray.shape)\n",
        "print(\"Number of dimension of 2D array is:\",twoarray.ndim)\n",
        "print(\"Datatype of 2D array is:\",twoarray.dtype)\n",
        "print(\"size of 2D array is:\",twoarray.size)"
      ],
      "execution_count": 25,
      "outputs": [
        {
          "output_type": "stream",
          "text": [
            "shape of 2D array is : (3, 3)\n",
            "Number of dimension of 2D array is: 2\n",
            "Datatype of 2D array is: int64\n",
            "size of 2D array is: 9\n"
          ],
          "name": "stdout"
        }
      ]
    },
    {
      "metadata": {
        "id": "A09rdfX_0NXs",
        "colab_type": "code",
        "colab": {}
      },
      "cell_type": "code",
      "source": [
        ""
      ],
      "execution_count": 0,
      "outputs": []
    },
    {
      "metadata": {
        "id": "ofCv0j_g1TYH",
        "colab_type": "text"
      },
      "cell_type": "markdown",
      "source": [
        "# Three Dimensional array"
      ]
    },
    {
      "metadata": {
        "id": "rrYP5tJT1XcJ",
        "colab_type": "code",
        "colab": {
          "base_uri": "https://localhost:8080/",
          "height": 139
        },
        "outputId": "7832fcd6-0271-4589-d5c8-f3b71f6d8b8d"
      },
      "cell_type": "code",
      "source": [
        "threearr = np.array([[[1,2,3],[3,4,5],[5,6,7]],[[2,3,4],[4,5,6],[6,7,8]]])\n",
        "print(threearr)"
      ],
      "execution_count": 26,
      "outputs": [
        {
          "output_type": "stream",
          "text": [
            "[[[1 2 3]\n",
            "  [3 4 5]\n",
            "  [5 6 7]]\n",
            "\n",
            " [[2 3 4]\n",
            "  [4 5 6]\n",
            "  [6 7 8]]]\n"
          ],
          "name": "stdout"
        }
      ]
    },
    {
      "metadata": {
        "id": "wivYiDkS2jFi",
        "colab_type": "code",
        "colab": {
          "base_uri": "https://localhost:8080/",
          "height": 87
        },
        "outputId": "81cea18d-2426-4a13-fb13-d4b8819bde4c"
      },
      "cell_type": "code",
      "source": [
        "print(\"shape of 3D array is :\",threearr.shape)\n",
        "print(\"Number of dimension of 3D array is:\",threearr.ndim)\n",
        "print(\"Datatype of 3D array is:\",threearr.dtype)\n",
        "print(\"size of 3D array is:\",threearr.size)"
      ],
      "execution_count": 27,
      "outputs": [
        {
          "output_type": "stream",
          "text": [
            "shape of 3D array is : (2, 3, 3)\n",
            "Number of dimension of 3D array is: 3\n",
            "Datatype of 3D array is: int64\n",
            "size of 3D array is: 18\n"
          ],
          "name": "stdout"
        }
      ]
    },
    {
      "metadata": {
        "id": "22Iwm3fO6t6-",
        "colab_type": "text"
      },
      "cell_type": "markdown",
      "source": [
        "# Numpy Important Function\n",
        "\n",
        "\n",
        "*   **numpy.zeros(shape)**   - creates an array full of zeros with given shape\n",
        "*   **numpy.ones(shape)**    - creates an array full of ones with given shape\n",
        "\n",
        "\n",
        "*   **numpy.empty(shape)** - creates an array whose initial content is random\n",
        "*   **numpy.eye(shape)**      - creates an identity matrix with shape of (integer,integer)\n",
        "\n",
        "\n",
        "\n"
      ]
    },
    {
      "metadata": {
        "id": "jVbk1jll6yDf",
        "colab_type": "code",
        "colab": {
          "base_uri": "https://localhost:8080/",
          "height": 69
        },
        "outputId": "886d8482-f614-4877-891e-a76af97b7f04"
      },
      "cell_type": "code",
      "source": [
        "np.zeros((3,4))"
      ],
      "execution_count": 28,
      "outputs": [
        {
          "output_type": "execute_result",
          "data": {
            "text/plain": [
              "array([[0., 0., 0., 0.],\n",
              "       [0., 0., 0., 0.],\n",
              "       [0., 0., 0., 0.]])"
            ]
          },
          "metadata": {
            "tags": []
          },
          "execution_count": 28
        }
      ]
    },
    {
      "metadata": {
        "id": "f_a6YTBJ8MEE",
        "colab_type": "code",
        "colab": {
          "base_uri": "https://localhost:8080/",
          "height": 139
        },
        "outputId": "a357d29f-24a3-466c-92f8-bd61225ac9e5"
      },
      "cell_type": "code",
      "source": [
        "np.ones((2,3,4),dtype=np.int16)"
      ],
      "execution_count": 29,
      "outputs": [
        {
          "output_type": "execute_result",
          "data": {
            "text/plain": [
              "array([[[1, 1, 1, 1],\n",
              "        [1, 1, 1, 1],\n",
              "        [1, 1, 1, 1]],\n",
              "\n",
              "       [[1, 1, 1, 1],\n",
              "        [1, 1, 1, 1],\n",
              "        [1, 1, 1, 1]]], dtype=int16)"
            ]
          },
          "metadata": {
            "tags": []
          },
          "execution_count": 29
        }
      ]
    },
    {
      "metadata": {
        "id": "xMChxIgI8nj9",
        "colab_type": "code",
        "colab": {
          "base_uri": "https://localhost:8080/",
          "height": 52
        },
        "outputId": "3e44c9c9-198a-4e87-a924-3a140b151060"
      },
      "cell_type": "code",
      "source": [
        "np.empty((2,3)) #uninitialized output may vary"
      ],
      "execution_count": 32,
      "outputs": [
        {
          "output_type": "execute_result",
          "data": {
            "text/plain": [
              "array([[1.90908863e-316, 0.00000000e+000, 0.00000000e+000],\n",
              "       [0.00000000e+000, 0.00000000e+000, 0.00000000e+000]])"
            ]
          },
          "metadata": {
            "tags": []
          },
          "execution_count": 32
        }
      ]
    },
    {
      "metadata": {
        "id": "ouwMqKxu8z6X",
        "colab_type": "code",
        "colab": {
          "base_uri": "https://localhost:8080/",
          "height": 104
        },
        "outputId": "c126a116-a5ef-4937-f000-32ed1028bdea"
      },
      "cell_type": "code",
      "source": [
        "np.eye(5) #it is an square matrix it's rows and colum will be same always"
      ],
      "execution_count": 31,
      "outputs": [
        {
          "output_type": "execute_result",
          "data": {
            "text/plain": [
              "array([[1., 0., 0., 0., 0.],\n",
              "       [0., 1., 0., 0., 0.],\n",
              "       [0., 0., 1., 0., 0.],\n",
              "       [0., 0., 0., 1., 0.],\n",
              "       [0., 0., 0., 0., 1.]])"
            ]
          },
          "metadata": {
            "tags": []
          },
          "execution_count": 31
        }
      ]
    },
    {
      "metadata": {
        "id": "7SSwD7Xc9I6-",
        "colab_type": "code",
        "colab": {
          "base_uri": "https://localhost:8080/",
          "height": 87
        },
        "outputId": "53e98b8e-23d7-4591-a854-76c5edd39338"
      },
      "cell_type": "code",
      "source": [
        "arr = np.array([[1,2],[3,4]])\n",
        "print(\"Array is \")\n",
        "print(arr)\n",
        "print(\"Diagonals of arr is\",np.diag(arr))"
      ],
      "execution_count": 33,
      "outputs": [
        {
          "output_type": "stream",
          "text": [
            "Array is \n",
            "[[1 2]\n",
            " [3 4]]\n",
            "Diagonals of arr is [1 4]\n"
          ],
          "name": "stdout"
        }
      ]
    },
    {
      "metadata": {
        "id": "JWZKYMHq91ZH",
        "colab_type": "code",
        "colab": {}
      },
      "cell_type": "code",
      "source": [
        ""
      ],
      "execution_count": 0,
      "outputs": []
    },
    {
      "metadata": {
        "id": "sPqlcB9P-N4p",
        "colab_type": "text"
      },
      "cell_type": "markdown",
      "source": [
        "\n",
        "\n",
        "*   **numpy.arange**  -  to create a sequence of numbers.Numpy provides a function analogous to range that return arrays instead of lists.\n",
        "*   **numpy.linspace**  - return evenly spaced numbers over specified interval.\n",
        "\n"
      ]
    },
    {
      "metadata": {
        "id": "ztrLlQvm_KwF",
        "colab_type": "code",
        "colab": {
          "base_uri": "https://localhost:8080/",
          "height": 35
        },
        "outputId": "00c19fa3-8672-4bc4-d642-096ba2fd749e"
      },
      "cell_type": "code",
      "source": [
        "list(range(10))"
      ],
      "execution_count": 34,
      "outputs": [
        {
          "output_type": "execute_result",
          "data": {
            "text/plain": [
              "[0, 1, 2, 3, 4, 5, 6, 7, 8, 9]"
            ]
          },
          "metadata": {
            "tags": []
          },
          "execution_count": 34
        }
      ]
    },
    {
      "metadata": {
        "id": "w43FC0jE_O69",
        "colab_type": "code",
        "colab": {
          "base_uri": "https://localhost:8080/",
          "height": 35
        },
        "outputId": "6345d235-37e2-49f5-ab11-7cb121d5c5a0"
      },
      "cell_type": "code",
      "source": [
        "np.arange(10,30,5) #10 is first initial value, 30 is end value and 5 is the incremental value and its just like range function."
      ],
      "execution_count": 35,
      "outputs": [
        {
          "output_type": "execute_result",
          "data": {
            "text/plain": [
              "array([10, 15, 20, 25])"
            ]
          },
          "metadata": {
            "tags": []
          },
          "execution_count": 35
        }
      ]
    },
    {
      "metadata": {
        "id": "iD0MTuQ0_8yk",
        "colab_type": "code",
        "colab": {
          "base_uri": "https://localhost:8080/",
          "height": 35
        },
        "outputId": "909ec97b-b918-4e52-c8c4-e287f38e2d6a"
      },
      "cell_type": "code",
      "source": [
        "np.arange(0,100,10)"
      ],
      "execution_count": 37,
      "outputs": [
        {
          "output_type": "execute_result",
          "data": {
            "text/plain": [
              "array([ 0, 10, 20, 30, 40, 50, 60, 70, 80, 90])"
            ]
          },
          "metadata": {
            "tags": []
          },
          "execution_count": 37
        }
      ]
    },
    {
      "metadata": {
        "id": "0KG7LE9uADsS",
        "colab_type": "code",
        "colab": {
          "base_uri": "https://localhost:8080/",
          "height": 35
        },
        "outputId": "b92b6e02-7366-45ac-d3e2-b9ce73b775b0"
      },
      "cell_type": "code",
      "source": [
        "np.arange(10)"
      ],
      "execution_count": 38,
      "outputs": [
        {
          "output_type": "execute_result",
          "data": {
            "text/plain": [
              "array([0, 1, 2, 3, 4, 5, 6, 7, 8, 9])"
            ]
          },
          "metadata": {
            "tags": []
          },
          "execution_count": 38
        }
      ]
    },
    {
      "metadata": {
        "id": "iWRmeuelAJ5-",
        "colab_type": "code",
        "colab": {
          "base_uri": "https://localhost:8080/",
          "height": 35
        },
        "outputId": "06f23dff-90c8-479c-d1c0-db4b8c705588"
      },
      "cell_type": "code",
      "source": [
        "np.linspace(0,100,11) #it calculates like as first of 100 - 0 = 100 then 100 / (11-1)= 10 and then it incremented 10 in everystep."
      ],
      "execution_count": 49,
      "outputs": [
        {
          "output_type": "execute_result",
          "data": {
            "text/plain": [
              "array([  0.,  10.,  20.,  30.,  40.,  50.,  60.,  70.,  80.,  90., 100.])"
            ]
          },
          "metadata": {
            "tags": []
          },
          "execution_count": 49
        }
      ]
    },
    {
      "metadata": {
        "id": "F-GUR5ZgA7Y6",
        "colab_type": "code",
        "colab": {
          "base_uri": "https://localhost:8080/",
          "height": 35
        },
        "outputId": "02b787d1-5b35-4b20-a45f-7d641a8c7c53"
      },
      "cell_type": "code",
      "source": [
        "np.linspace(2,3,5)"
      ],
      "execution_count": 53,
      "outputs": [
        {
          "output_type": "execute_result",
          "data": {
            "text/plain": [
              "array([2.  , 2.25, 2.5 , 2.75, 3.  ])"
            ]
          },
          "metadata": {
            "tags": []
          },
          "execution_count": 53
        }
      ]
    },
    {
      "metadata": {
        "id": "CrTgUNeaD12D",
        "colab_type": "code",
        "colab": {
          "base_uri": "https://localhost:8080/",
          "height": 365
        },
        "outputId": "7a5a3441-685d-4889-927a-4a14af2423c6"
      },
      "cell_type": "code",
      "source": [
        "print(np.linspace(0,2,9))\n",
        "x = np.linspace(0,2*np.pi,100)\n",
        "f = np.sin(x)\n",
        "plt.plot(f)\n",
        "plt.show()"
      ],
      "execution_count": 74,
      "outputs": [
        {
          "output_type": "stream",
          "text": [
            "[0.   0.25 0.5  0.75 1.   1.25 1.5  1.75 2.  ]\n"
          ],
          "name": "stdout"
        },
        {
          "output_type": "display_data",
          "data": {
            "image/png": "[encoded data removed]",
            "text/plain": [
              "<Figure size 576x396 with 1 Axes>"
            ]
          },
          "metadata": {
            "tags": []
          }
        }
      ]
    },
    {
      "metadata": {
        "id": "wEI_-okwEs1g",
        "colab_type": "code",
        "colab": {
          "base_uri": "https://localhost:8080/",
          "height": 139
        },
        "outputId": "61f2b149-ccc6-4f59-c2ac-28c60e63f140"
      },
      "cell_type": "code",
      "source": [
        "arr = np.array([[1,2,3],[4,5,6],[6,3,2]])\n",
        "print(arr)\n",
        "print(\"----\")\n",
        "print(np.tril(arr))"
      ],
      "execution_count": 62,
      "outputs": [
        {
          "output_type": "stream",
          "text": [
            "[[1 2 3]\n",
            " [4 5 6]\n",
            " [6 3 2]]\n",
            "----\n",
            "[[1 0 0]\n",
            " [4 5 0]\n",
            " [6 3 2]]\n"
          ],
          "name": "stdout"
        }
      ]
    },
    {
      "metadata": {
        "id": "w1STeJZ3QJzJ",
        "colab_type": "code",
        "colab": {
          "base_uri": "https://localhost:8080/",
          "height": 173
        },
        "outputId": "4c18ec0e-1722-41a9-cd7b-3beaad354d41"
      },
      "cell_type": "code",
      "source": [
        "print(np.tril(arr,-1)) #this will remove diagonal and it become zero\n",
        "print(np.triu(arr))\n",
        "print(np.triu(arr,1))  #this will remove diagonal and it become zero"
      ],
      "execution_count": 79,
      "outputs": [
        {
          "output_type": "stream",
          "text": [
            "[[0 0 0]\n",
            " [4 0 0]\n",
            " [6 3 0]]\n",
            "[[1 2 3]\n",
            " [0 5 6]\n",
            " [0 0 2]]\n",
            "[[0 2 3]\n",
            " [0 0 6]\n",
            " [0 0 0]]\n"
          ],
          "name": "stdout"
        }
      ]
    },
    {
      "metadata": {
        "id": "Z3hroie2Xhgs",
        "colab_type": "text"
      },
      "cell_type": "markdown",
      "source": [
        "# printing arrrays\n",
        "* numpy.arange().reshape() - creates a list into a matrix "
      ]
    },
    {
      "metadata": {
        "id": "fT4hrqmaUqxI",
        "colab_type": "code",
        "colab": {
          "base_uri": "https://localhost:8080/",
          "height": 35
        },
        "outputId": "f58aca87-91c5-48ac-b9b5-49954f8a74a3"
      },
      "cell_type": "code",
      "source": [
        "np.arange(10)"
      ],
      "execution_count": 81,
      "outputs": [
        {
          "output_type": "execute_result",
          "data": {
            "text/plain": [
              "array([0, 1, 2, 3, 4, 5, 6, 7, 8, 9])"
            ]
          },
          "metadata": {
            "tags": []
          },
          "execution_count": 81
        }
      ]
    },
    {
      "metadata": {
        "id": "7K_U4JODYFoZ",
        "colab_type": "code",
        "colab": {
          "base_uri": "https://localhost:8080/",
          "height": 52
        },
        "outputId": "53d17bd4-25f6-4690-a017-ee68140449a5"
      },
      "cell_type": "code",
      "source": [
        "np.arange(10).reshape(2,5)"
      ],
      "execution_count": 84,
      "outputs": [
        {
          "output_type": "execute_result",
          "data": {
            "text/plain": [
              "array([[0, 1, 2, 3, 4],\n",
              "       [5, 6, 7, 8, 9]])"
            ]
          },
          "metadata": {
            "tags": []
          },
          "execution_count": 84
        }
      ]
    },
    {
      "metadata": {
        "id": "fNljzuBgYPs4",
        "colab_type": "code",
        "colab": {
          "base_uri": "https://localhost:8080/",
          "height": 52
        },
        "outputId": "33a3e569-bafa-42bb-e2ad-c34d18f4bf59"
      },
      "cell_type": "code",
      "source": [
        "s = np.array(['a','b','c','d'])\n",
        "s.reshape(2,2)"
      ],
      "execution_count": 85,
      "outputs": [
        {
          "output_type": "execute_result",
          "data": {
            "text/plain": [
              "array([['a', 'b'],\n",
              "       ['c', 'd']], dtype='<U1')"
            ]
          },
          "metadata": {
            "tags": []
          },
          "execution_count": 85
        }
      ]
    },
    {
      "metadata": {
        "id": "1ASynrJvdPoZ",
        "colab_type": "text"
      },
      "cell_type": "markdown",
      "source": [
        "# Random Number Generation\n",
        "\n",
        "* **numpy.random.rand()** - for uniform distribution, in rand function we need to give a shape or single value.\n",
        "* **numpy.random.randn()** - for normal distribution, in randn function we need to give a value or shape.\n",
        "* **numpy.random.randint()** - in randint(), we need to give a low, high and number of output we want or just a single value for single output"
      ]
    },
    {
      "metadata": {
        "id": "PpjCt5yudUt8",
        "colab_type": "code",
        "colab": {
          "base_uri": "https://localhost:8080/",
          "height": 52
        },
        "outputId": "de6361d6-6cb9-4fdf-ef57-d0bcb4b2a1a9"
      },
      "cell_type": "code",
      "source": [
        "np.random.rand(2,3) #uniform distribution"
      ],
      "execution_count": 89,
      "outputs": [
        {
          "output_type": "execute_result",
          "data": {
            "text/plain": [
              "array([[0.68805607, 0.22133641, 0.342025  ],\n",
              "       [0.3118907 , 0.120421  , 0.05773077]])"
            ]
          },
          "metadata": {
            "tags": []
          },
          "execution_count": 89
        }
      ]
    },
    {
      "metadata": {
        "id": "aGwWbjCDfQLH",
        "colab_type": "code",
        "colab": {
          "base_uri": "https://localhost:8080/",
          "height": 52
        },
        "outputId": "efc4bc98-dd99-4c34-a8f8-900a151f9e36"
      },
      "cell_type": "code",
      "source": [
        "np.random.rand(10) #uniform distribution"
      ],
      "execution_count": 91,
      "outputs": [
        {
          "output_type": "execute_result",
          "data": {
            "text/plain": [
              "array([0.07448912, 0.87556325, 0.76030798, 0.62098438, 0.42832194,\n",
              "       0.68136371, 0.72635945, 0.53293651, 0.75236414, 0.32877822])"
            ]
          },
          "metadata": {
            "tags": []
          },
          "execution_count": 91
        }
      ]
    },
    {
      "metadata": {
        "id": "IRKzL9Fpfn_k",
        "colab_type": "code",
        "colab": {
          "base_uri": "https://localhost:8080/",
          "height": 52
        },
        "outputId": "ba4bc37c-88ea-40f1-b969-3959f2ce8950"
      },
      "cell_type": "code",
      "source": [
        "np.random.randn(10) #normal distribution with 0 mean and standard deviation 1 i.e. \"standard normal\""
      ],
      "execution_count": 93,
      "outputs": [
        {
          "output_type": "execute_result",
          "data": {
            "text/plain": [
              "array([-1.09623554,  0.76020938,  0.75073454,  0.09093404, -0.00462993,\n",
              "       -1.26866825, -0.85680192,  0.83132408, -1.90557994,  0.42035845])"
            ]
          },
          "metadata": {
            "tags": []
          },
          "execution_count": 93
        }
      ]
    },
    {
      "metadata": {
        "id": "QdIHM91Ofvzi",
        "colab_type": "code",
        "colab": {
          "base_uri": "https://localhost:8080/",
          "height": 35
        },
        "outputId": "2f9fa768-79ca-435a-a760-969f733bf91d"
      },
      "cell_type": "code",
      "source": [
        "r = np.random.randint(1,100)\n",
        "print(r)"
      ],
      "execution_count": 98,
      "outputs": [
        {
          "output_type": "stream",
          "text": [
            "53\n"
          ],
          "name": "stdout"
        }
      ]
    },
    {
      "metadata": {
        "id": "N2E0k3r8gFyK",
        "colab_type": "code",
        "colab": {
          "base_uri": "https://localhost:8080/",
          "height": 35
        },
        "outputId": "b1aeaccb-892a-4ece-9cb0-7f084ebfd87e"
      },
      "cell_type": "code",
      "source": [
        "np.random.randint(1,100,10) #in randint(low,high,number of output)"
      ],
      "execution_count": 99,
      "outputs": [
        {
          "output_type": "execute_result",
          "data": {
            "text/plain": [
              "array([46, 92, 57, 37, 61, 38, 21, 37, 63, 18])"
            ]
          },
          "metadata": {
            "tags": []
          },
          "execution_count": 99
        }
      ]
    },
    {
      "metadata": {
        "id": "32tDx8f2gZhs",
        "colab_type": "code",
        "colab": {
          "base_uri": "https://localhost:8080/",
          "height": 347
        },
        "outputId": "21c3cd04-bd82-4908-a771-65a474fa0461"
      },
      "cell_type": "code",
      "source": [
        "plt.hist(np.random.rand(1000)) # for uniform distribution, in graph we can also see it distributes uniformly\n",
        "plt.show()"
      ],
      "execution_count": 103,
      "outputs": [
        {
          "output_type": "display_data",
          "data": {
            "image/png": "[encoded data removed]",
            "text/plain": [
              "<Figure size 576x396 with 1 Axes>"
            ]
          },
          "metadata": {
            "tags": []
          }
        }
      ]
    },
    {
      "metadata": {
        "id": "VqQivoU-gjvZ",
        "colab_type": "code",
        "colab": {
          "base_uri": "https://localhost:8080/",
          "height": 347
        },
        "outputId": "5cc66f4b-c54c-4492-e8f0-15457990eaab"
      },
      "cell_type": "code",
      "source": [
        "plt.hist(np.random.randn(1000))  #for normal distribution with 0 mean and standard deviation 1 ,in graph we can also see this is standard normal.\n",
        "plt.show()"
      ],
      "execution_count": 105,
      "outputs": [
        {
          "output_type": "display_data",
          "data": {
            "image/png": "[encoded data removed]",
            "text/plain": [
              "<Figure size 576x396 with 1 Axes>"
            ]
          },
          "metadata": {
            "tags": []
          }
        }
      ]
    },
    {
      "metadata": {
        "id": "lvdhqWgthylt",
        "colab_type": "text"
      },
      "cell_type": "markdown",
      "source": [
        "# Basic Operation"
      ]
    },
    {
      "metadata": {
        "id": "8kfno7d3g9T4",
        "colab_type": "code",
        "colab": {
          "base_uri": "https://localhost:8080/",
          "height": 52
        },
        "outputId": "8f9f5188-f568-44de-bdec-7fa5bf572831"
      },
      "cell_type": "code",
      "source": [
        "a = np.array([10,20,30,40])\n",
        "b = np.arange(1,5)\n",
        "print(a)\n",
        "print(b)"
      ],
      "execution_count": 106,
      "outputs": [
        {
          "output_type": "stream",
          "text": [
            "[10 20 30 40]\n",
            "[1 2 3 4]\n"
          ],
          "name": "stdout"
        }
      ]
    },
    {
      "metadata": {
        "id": "dHM3da_iiShQ",
        "colab_type": "text"
      },
      "cell_type": "markdown",
      "source": [
        "**Elementwise arithmatic operation**"
      ]
    },
    {
      "metadata": {
        "id": "PDefm1r1iQk6",
        "colab_type": "code",
        "colab": {
          "base_uri": "https://localhost:8080/",
          "height": 87
        },
        "outputId": "55cec0ba-dea0-4561-dbdc-c8790889b661"
      },
      "cell_type": "code",
      "source": [
        "add = a + b\n",
        "sub = a - b\n",
        "div = a / b\n",
        "mul = a * b\n",
        "print(\"Addition: \",add)\n",
        "print(\"Subtraction:\",sub)\n",
        "print(\"Division:\",div)\n",
        "print(\"Multiplication:\",mul)"
      ],
      "execution_count": 108,
      "outputs": [
        {
          "output_type": "stream",
          "text": [
            "Addition:  [11 22 33 44]\n",
            "Subtraction: [ 9 18 27 36]\n",
            "Division: [10. 10. 10. 10.]\n",
            "Multiplication: [ 10  40  90 160]\n"
          ],
          "name": "stdout"
        }
      ]
    },
    {
      "metadata": {
        "id": "eXCiY4MHjxmW",
        "colab_type": "text"
      },
      "cell_type": "markdown",
      "source": [
        "** Airthmatic operation with scalar values**"
      ]
    },
    {
      "metadata": {
        "id": "IbztM-knihuM",
        "colab_type": "code",
        "colab": {
          "base_uri": "https://localhost:8080/",
          "height": 35
        },
        "outputId": "734dd402-46a6-4d6f-e38d-a95710e6e8af"
      },
      "cell_type": "code",
      "source": [
        "b**2"
      ],
      "execution_count": 109,
      "outputs": [
        {
          "output_type": "execute_result",
          "data": {
            "text/plain": [
              "array([ 1,  4,  9, 16])"
            ]
          },
          "metadata": {
            "tags": []
          },
          "execution_count": 109
        }
      ]
    },
    {
      "metadata": {
        "id": "Mhpq6Nqjj7j1",
        "colab_type": "code",
        "colab": {
          "base_uri": "https://localhost:8080/",
          "height": 35
        },
        "outputId": "7b44d707-e685-4951-a253-b6a3e1dd3e8c"
      },
      "cell_type": "code",
      "source": [
        "b * 10"
      ],
      "execution_count": 114,
      "outputs": [
        {
          "output_type": "execute_result",
          "data": {
            "text/plain": [
              "array([10, 20, 30, 40])"
            ]
          },
          "metadata": {
            "tags": []
          },
          "execution_count": 114
        }
      ]
    },
    {
      "metadata": {
        "id": "_CJMrWTfkAdh",
        "colab_type": "code",
        "colab": {
          "base_uri": "https://localhost:8080/",
          "height": 35
        },
        "outputId": "8e27e81d-3bd4-48d5-919b-64d30a16fdac"
      },
      "cell_type": "code",
      "source": [
        "a < 35"
      ],
      "execution_count": 113,
      "outputs": [
        {
          "output_type": "execute_result",
          "data": {
            "text/plain": [
              "array([ True,  True,  True, False])"
            ]
          },
          "metadata": {
            "tags": []
          },
          "execution_count": 113
        }
      ]
    }
  ]
}