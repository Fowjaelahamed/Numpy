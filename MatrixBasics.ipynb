{
  "nbformat": 4,
  "nbformat_minor": 0,
  "metadata": {
    "colab": {
      "name": "MatrixBasics.ipynb",
      "version": "0.3.2",
      "provenance": [],
      "collapsed_sections": [],
      "include_colab_link": true
    },
    "kernelspec": {
      "name": "python3",
      "display_name": "Python 3"
    }
  },
  "cells": [
    {
      "cell_type": "markdown",
      "metadata": {
        "id": "view-in-github",
        "colab_type": "text"
      },
      "source": [
        "<a href=\"https://colab.research.google.com/github/Fowjaelahamed/Numpy/blob/master/MatrixBasics.ipynb\" target=\"_parent\"><img src=\"https://colab.research.google.com/assets/colab-badge.svg\" alt=\"Open In Colab\"/></a>"
      ]
    },
    {
      "metadata": {
        "id": "OO92okUxUjVh",
        "colab_type": "text"
      },
      "cell_type": "markdown",
      "source": [
        "# Loading Numpy Library"
      ]
    },
    {
      "metadata": {
        "id": "lieyYUBYUhYb",
        "colab_type": "code",
        "colab": {}
      },
      "cell_type": "code",
      "source": [
        "import numpy as np"
      ],
      "execution_count": 0,
      "outputs": []
    },
    {
      "metadata": {
        "id": "wkBrolGbUZ54",
        "colab_type": "text"
      },
      "cell_type": "markdown",
      "source": [
        "# Matrix Operations"
      ]
    },
    {
      "metadata": {
        "id": "LWASSg75T3Ih",
        "colab_type": "code",
        "colab": {
          "base_uri": "https://localhost:8080/",
          "height": 69
        },
        "outputId": "ce86a238-48e5-493b-856f-c0d554046fc7"
      },
      "cell_type": "code",
      "source": [
        "a = np.array([[1,2,3],[2,3,4],[5,6,7]])\n",
        "b = np.array([[3,4,5],[6,7,8],[9,10,11]])\n",
        "a + b"
      ],
      "execution_count": 15,
      "outputs": [
        {
          "output_type": "execute_result",
          "data": {
            "text/plain": [
              "array([[ 4,  6,  8],\n",
              "       [ 8, 10, 12],\n",
              "       [14, 16, 18]])"
            ]
          },
          "metadata": {
            "tags": []
          },
          "execution_count": 15
        }
      ]
    },
    {
      "metadata": {
        "id": "PD2dRNMoU_Uf",
        "colab_type": "code",
        "colab": {
          "base_uri": "https://localhost:8080/",
          "height": 69
        },
        "outputId": "030e3803-fab9-4225-a66c-a0a37405b761"
      },
      "cell_type": "code",
      "source": [
        "a - b"
      ],
      "execution_count": 16,
      "outputs": [
        {
          "output_type": "execute_result",
          "data": {
            "text/plain": [
              "array([[-2, -2, -2],\n",
              "       [-4, -4, -4],\n",
              "       [-4, -4, -4]])"
            ]
          },
          "metadata": {
            "tags": []
          },
          "execution_count": 16
        }
      ]
    },
    {
      "metadata": {
        "id": "3c73XmXQVH55",
        "colab_type": "code",
        "colab": {
          "base_uri": "https://localhost:8080/",
          "height": 69
        },
        "outputId": "4b338199-ce44-420d-bc5f-95134d951e5f"
      },
      "cell_type": "code",
      "source": [
        "a * b  #this will like as normal multiplication "
      ],
      "execution_count": 17,
      "outputs": [
        {
          "output_type": "execute_result",
          "data": {
            "text/plain": [
              "array([[ 3,  8, 15],\n",
              "       [12, 21, 32],\n",
              "       [45, 60, 77]])"
            ]
          },
          "metadata": {
            "tags": []
          },
          "execution_count": 17
        }
      ]
    },
    {
      "metadata": {
        "id": "neBcZrHlbO7c",
        "colab_type": "code",
        "colab": {
          "base_uri": "https://localhost:8080/",
          "height": 69
        },
        "outputId": "3053a27d-eb1f-44b2-a43f-e2c260c04ce3"
      },
      "cell_type": "code",
      "source": [
        "a / b"
      ],
      "execution_count": 18,
      "outputs": [
        {
          "output_type": "execute_result",
          "data": {
            "text/plain": [
              "array([[0.33333333, 0.5       , 0.6       ],\n",
              "       [0.33333333, 0.42857143, 0.5       ],\n",
              "       [0.55555556, 0.6       , 0.63636364]])"
            ]
          },
          "metadata": {
            "tags": []
          },
          "execution_count": 18
        }
      ]
    },
    {
      "metadata": {
        "id": "tqVDy_hYbS3C",
        "colab_type": "code",
        "colab": {
          "base_uri": "https://localhost:8080/",
          "height": 69
        },
        "outputId": "34b756a9-45f2-4e2b-96b9-60a2cd167ec0"
      },
      "cell_type": "code",
      "source": [
        "a % b"
      ],
      "execution_count": 19,
      "outputs": [
        {
          "output_type": "execute_result",
          "data": {
            "text/plain": [
              "array([[1, 2, 3],\n",
              "       [2, 3, 4],\n",
              "       [5, 6, 7]])"
            ]
          },
          "metadata": {
            "tags": []
          },
          "execution_count": 19
        }
      ]
    },
    {
      "metadata": {
        "id": "KyGuHSRiWgw5",
        "colab_type": "code",
        "colab": {
          "base_uri": "https://localhost:8080/",
          "height": 104
        },
        "outputId": "3b18be1d-4efc-496a-a3fb-33d73e233169"
      },
      "cell_type": "code",
      "source": [
        "a = np.array([[2,3],[1,4]])\n",
        "b = np.array([[6,4],[7,5]])\n",
        "print(a.dot(b))  #dot() is used for actual matrix multiplication where m*n for a and p*q for b and it is possible for multiplication if n = q. \n",
        "print(\"-------\")\n",
        "print(b.dot(a))"
      ],
      "execution_count": 20,
      "outputs": [
        {
          "output_type": "stream",
          "text": [
            "[[33 23]\n",
            " [34 24]]\n",
            "-------\n",
            "[[16 34]\n",
            " [19 41]]\n"
          ],
          "name": "stdout"
        }
      ]
    },
    {
      "metadata": {
        "id": "qQy88_tIYwDQ",
        "colab_type": "code",
        "colab": {
          "base_uri": "https://localhost:8080/",
          "height": 52
        },
        "outputId": "2624c42d-e732-46f7-90ad-583f7c0370f3"
      },
      "cell_type": "code",
      "source": [
        "np.dot(a,b) #it also same as dot() function."
      ],
      "execution_count": 21,
      "outputs": [
        {
          "output_type": "execute_result",
          "data": {
            "text/plain": [
              "array([[33, 23],\n",
              "       [34, 24]])"
            ]
          },
          "metadata": {
            "tags": []
          },
          "execution_count": 21
        }
      ]
    },
    {
      "metadata": {
        "id": "M6EO0LFhZyMG",
        "colab_type": "code",
        "colab": {}
      },
      "cell_type": "code",
      "source": [
        ""
      ],
      "execution_count": 0,
      "outputs": []
    },
    {
      "metadata": {
        "id": "tSj-CrutcF-s",
        "colab_type": "text"
      },
      "cell_type": "markdown",
      "source": [
        "# many unary operations are allowed on those numpy arrays such as -\n",
        "* **sum()** \n",
        "* **max()**\n",
        "* **min()**\n",
        "* **mean()**\n",
        "* **std()**\n",
        "* **cumsum()**"
      ]
    },
    {
      "metadata": {
        "id": "S95UrVfhcobt",
        "colab_type": "code",
        "colab": {
          "base_uri": "https://localhost:8080/",
          "height": 69
        },
        "outputId": "f93a9db0-fa26-487a-9ecd-0b1805dbdecb"
      },
      "cell_type": "code",
      "source": [
        "c = np.arange(12).reshape(3,4)\n",
        "print(c)"
      ],
      "execution_count": 22,
      "outputs": [
        {
          "output_type": "stream",
          "text": [
            "[[ 0  1  2  3]\n",
            " [ 4  5  6  7]\n",
            " [ 8  9 10 11]]\n"
          ],
          "name": "stdout"
        }
      ]
    },
    {
      "metadata": {
        "id": "JQtAETS2cyDP",
        "colab_type": "code",
        "colab": {
          "base_uri": "https://localhost:8080/",
          "height": 104
        },
        "outputId": "857d5223-4291-41d2-d0d6-8905779f76eb"
      },
      "cell_type": "code",
      "source": [
        "print(\"sum of elements:\",a.sum())\n",
        "print(\"max of elements:\",a.max())\n",
        "print(\"min of elements:\",a.min())\n",
        "print(\"mean of elements:\",a.mean())\n",
        "print(\"standard Deviation of elements:\",a.std())"
      ],
      "execution_count": 23,
      "outputs": [
        {
          "output_type": "stream",
          "text": [
            "sum of elements: 10\n",
            "max of elements: 4\n",
            "min of elements: 1\n",
            "mean of elements: 2.5\n",
            "standard Deviation of elements: 1.118033988749895\n"
          ],
          "name": "stdout"
        }
      ]
    },
    {
      "metadata": {
        "id": "4NqM11-DdIwJ",
        "colab_type": "code",
        "colab": {
          "base_uri": "https://localhost:8080/",
          "height": 69
        },
        "outputId": "a08b0643-636d-4ae3-c54e-37bf51385d50"
      },
      "cell_type": "code",
      "source": [
        "c"
      ],
      "execution_count": 24,
      "outputs": [
        {
          "output_type": "execute_result",
          "data": {
            "text/plain": [
              "array([[ 0,  1,  2,  3],\n",
              "       [ 4,  5,  6,  7],\n",
              "       [ 8,  9, 10, 11]])"
            ]
          },
          "metadata": {
            "tags": []
          },
          "execution_count": 24
        }
      ]
    },
    {
      "metadata": {
        "id": "5HYSbXRRdmfn",
        "colab_type": "code",
        "colab": {
          "base_uri": "https://localhost:8080/",
          "height": 35
        },
        "outputId": "e38ba654-0e8b-4e91-a00e-3af0e0198ab7"
      },
      "cell_type": "code",
      "source": [
        "c.shape"
      ],
      "execution_count": 25,
      "outputs": [
        {
          "output_type": "execute_result",
          "data": {
            "text/plain": [
              "(3, 4)"
            ]
          },
          "metadata": {
            "tags": []
          },
          "execution_count": 25
        }
      ]
    },
    {
      "metadata": {
        "id": "T5acxPNudqQl",
        "colab_type": "code",
        "colab": {
          "base_uri": "https://localhost:8080/",
          "height": 35
        },
        "outputId": "397a9e99-a1fd-41ad-a608-4df638b16302"
      },
      "cell_type": "code",
      "source": [
        "c.sum(axis=0) #it sums first column and make first value then sums second column and make second value and so on."
      ],
      "execution_count": 30,
      "outputs": [
        {
          "output_type": "execute_result",
          "data": {
            "text/plain": [
              "array([12, 15, 18, 21])"
            ]
          },
          "metadata": {
            "tags": []
          },
          "execution_count": 30
        }
      ]
    },
    {
      "metadata": {
        "id": "wTccvQIiduDO",
        "colab_type": "code",
        "colab": {
          "base_uri": "https://localhost:8080/",
          "height": 35
        },
        "outputId": "097157d1-4cf6-4c20-b756-fdaf3829aff5"
      },
      "cell_type": "code",
      "source": [
        "c.sum(axis=1) #it sums first row and make first value then sums second row and then make second value and so on."
      ],
      "execution_count": 31,
      "outputs": [
        {
          "output_type": "execute_result",
          "data": {
            "text/plain": [
              "array([ 6, 22, 38])"
            ]
          },
          "metadata": {
            "tags": []
          },
          "execution_count": 31
        }
      ]
    },
    {
      "metadata": {
        "id": "b_hfm8uvd4KI",
        "colab_type": "code",
        "colab": {
          "base_uri": "https://localhost:8080/",
          "height": 69
        },
        "outputId": "99588b30-8640-4fa0-8aa6-782c54eda00c"
      },
      "cell_type": "code",
      "source": [
        "c.cumsum(axis=1) #it is cumulatitive sum of axis 1 ."
      ],
      "execution_count": 32,
      "outputs": [
        {
          "output_type": "execute_result",
          "data": {
            "text/plain": [
              "array([[ 0,  1,  3,  6],\n",
              "       [ 4,  9, 15, 22],\n",
              "       [ 8, 17, 27, 38]])"
            ]
          },
          "metadata": {
            "tags": []
          },
          "execution_count": 32
        }
      ]
    },
    {
      "metadata": {
        "id": "ad7Mi0JHePwq",
        "colab_type": "code",
        "colab": {}
      },
      "cell_type": "code",
      "source": [
        ""
      ],
      "execution_count": 0,
      "outputs": []
    },
    {
      "metadata": {
        "id": "lyND1aw5fjYh",
        "colab_type": "text"
      },
      "cell_type": "markdown",
      "source": [
        "# Universal Functions\n",
        " * exp() ,sqrt() ,random.randn() , argmax() , max() ,argmin() ,argsort() , ceil() , corrcoef() , cov() ,cross() , cumprod() , cumsum() , diff() ,dot() , floor() ,inner(), inv() ,max() ,maximum(), mean(), median(), min() , minimum(), nonzero(), outer(), prod() ,re() ,round( ) , sort(), std(), sum() ,trace(), tranpose() , var() ,vdot() ,vectorise() "
      ]
    },
    {
      "metadata": {
        "id": "zu5aMEGlfmCk",
        "colab_type": "code",
        "colab": {
          "base_uri": "https://localhost:8080/",
          "height": 69
        },
        "outputId": "eae2eee0-72c8-4fa3-b789-251c15b8ac4a"
      },
      "cell_type": "code",
      "source": [
        "np.exp(c)"
      ],
      "execution_count": 33,
      "outputs": [
        {
          "output_type": "execute_result",
          "data": {
            "text/plain": [
              "array([[1.00000000e+00, 2.71828183e+00, 7.38905610e+00, 2.00855369e+01],\n",
              "       [5.45981500e+01, 1.48413159e+02, 4.03428793e+02, 1.09663316e+03],\n",
              "       [2.98095799e+03, 8.10308393e+03, 2.20264658e+04, 5.98741417e+04]])"
            ]
          },
          "metadata": {
            "tags": []
          },
          "execution_count": 33
        }
      ]
    },
    {
      "metadata": {
        "id": "jAT2p7yLhP1I",
        "colab_type": "code",
        "colab": {
          "base_uri": "https://localhost:8080/",
          "height": 69
        },
        "outputId": "78aef10e-4b8d-42fe-d47c-d473c15cb9d4"
      },
      "cell_type": "code",
      "source": [
        "np.sqrt(c)"
      ],
      "execution_count": 34,
      "outputs": [
        {
          "output_type": "execute_result",
          "data": {
            "text/plain": [
              "array([[0.        , 1.        , 1.41421356, 1.73205081],\n",
              "       [2.        , 2.23606798, 2.44948974, 2.64575131],\n",
              "       [2.82842712, 3.        , 3.16227766, 3.31662479]])"
            ]
          },
          "metadata": {
            "tags": []
          },
          "execution_count": 34
        }
      ]
    },
    {
      "metadata": {
        "id": "4AGUn0fUhScr",
        "colab_type": "code",
        "colab": {
          "base_uri": "https://localhost:8080/",
          "height": 87
        },
        "outputId": "20b5f137-f156-4f40-eeff-f143ae6bff1d"
      },
      "cell_type": "code",
      "source": [
        "np.random.randn(4,3)"
      ],
      "execution_count": 35,
      "outputs": [
        {
          "output_type": "execute_result",
          "data": {
            "text/plain": [
              "array([[-0.69029324, -0.16754233, -0.02450388],\n",
              "       [-0.05072562, -2.0783898 , -1.10321284],\n",
              "       [ 0.01736425,  0.51984014,  1.256316  ],\n",
              "       [ 1.34229969, -0.06737117, -0.40757438]])"
            ]
          },
          "metadata": {
            "tags": []
          },
          "execution_count": 35
        }
      ]
    },
    {
      "metadata": {
        "id": "eAFmhen1jYWx",
        "colab_type": "code",
        "colab": {
          "base_uri": "https://localhost:8080/",
          "height": 69
        },
        "outputId": "60a4ae40-ffb3-4a32-acf0-77af486b2831"
      },
      "cell_type": "code",
      "source": [
        "c"
      ],
      "execution_count": 40,
      "outputs": [
        {
          "output_type": "execute_result",
          "data": {
            "text/plain": [
              "array([[ 0,  1,  2,  3],\n",
              "       [ 4,  5,  6,  7],\n",
              "       [ 8,  9, 10, 11]])"
            ]
          },
          "metadata": {
            "tags": []
          },
          "execution_count": 40
        }
      ]
    },
    {
      "metadata": {
        "id": "pRtE8Jj4hWb-",
        "colab_type": "code",
        "colab": {
          "base_uri": "https://localhost:8080/",
          "height": 35
        },
        "outputId": "716ff4d1-6369-4e05-92be-df4232dcefb8"
      },
      "cell_type": "code",
      "source": [
        "np.argmax(c)"
      ],
      "execution_count": 36,
      "outputs": [
        {
          "output_type": "execute_result",
          "data": {
            "text/plain": [
              "11"
            ]
          },
          "metadata": {
            "tags": []
          },
          "execution_count": 36
        }
      ]
    },
    {
      "metadata": {
        "id": "bVD-qYysiAwa",
        "colab_type": "code",
        "colab": {
          "base_uri": "https://localhost:8080/",
          "height": 35
        },
        "outputId": "01e3f386-3b99-4454-9882-9ee28e20a83b"
      },
      "cell_type": "code",
      "source": [
        "np.argmax(c,axis=0)"
      ],
      "execution_count": 39,
      "outputs": [
        {
          "output_type": "execute_result",
          "data": {
            "text/plain": [
              "array([2, 2, 2, 2])"
            ]
          },
          "metadata": {
            "tags": []
          },
          "execution_count": 39
        }
      ]
    },
    {
      "metadata": {
        "id": "_f6us8XviEBz",
        "colab_type": "code",
        "colab": {
          "base_uri": "https://localhost:8080/",
          "height": 35
        },
        "outputId": "d93a22e8-4360-422d-961c-19293e1cd969"
      },
      "cell_type": "code",
      "source": [
        "np.argmax(c,axis=1)"
      ],
      "execution_count": 38,
      "outputs": [
        {
          "output_type": "execute_result",
          "data": {
            "text/plain": [
              "array([3, 3, 3])"
            ]
          },
          "metadata": {
            "tags": []
          },
          "execution_count": 38
        }
      ]
    },
    {
      "metadata": {
        "id": "ffpDDIUsiHCN",
        "colab_type": "code",
        "colab": {}
      },
      "cell_type": "code",
      "source": [
        ""
      ],
      "execution_count": 0,
      "outputs": []
    },
    {
      "metadata": {
        "id": "5SDl--1FjsDA",
        "colab_type": "text"
      },
      "cell_type": "markdown",
      "source": [
        "# indexing, Slicing and Iterating\n",
        "* 1D arrays can be indexed,sliced and iterated just like lists and tuples in python."
      ]
    },
    {
      "metadata": {
        "id": "Hq-eHN4wjxB8",
        "colab_type": "code",
        "colab": {}
      },
      "cell_type": "code",
      "source": [
        "m = np.linspace(1,10,15)"
      ],
      "execution_count": 0,
      "outputs": []
    },
    {
      "metadata": {
        "id": "z9iN-I1GkIUz",
        "colab_type": "code",
        "colab": {
          "base_uri": "https://localhost:8080/",
          "height": 69
        },
        "outputId": "cbfeee95-e4ca-4041-94f5-33f65a48d5c7"
      },
      "cell_type": "code",
      "source": [
        "m"
      ],
      "execution_count": 44,
      "outputs": [
        {
          "output_type": "execute_result",
          "data": {
            "text/plain": [
              "array([ 1.        ,  1.64285714,  2.28571429,  2.92857143,  3.57142857,\n",
              "        4.21428571,  4.85714286,  5.5       ,  6.14285714,  6.78571429,\n",
              "        7.42857143,  8.07142857,  8.71428571,  9.35714286, 10.        ])"
            ]
          },
          "metadata": {
            "tags": []
          },
          "execution_count": 44
        }
      ]
    },
    {
      "metadata": {
        "id": "cbJorsyTkJlG",
        "colab_type": "code",
        "colab": {
          "base_uri": "https://localhost:8080/",
          "height": 35
        },
        "outputId": "f3278847-ad22-4e42-8b61-92779c0a72bc"
      },
      "cell_type": "code",
      "source": [
        "m[2]"
      ],
      "execution_count": 45,
      "outputs": [
        {
          "output_type": "execute_result",
          "data": {
            "text/plain": [
              "2.2857142857142856"
            ]
          },
          "metadata": {
            "tags": []
          },
          "execution_count": 45
        }
      ]
    },
    {
      "metadata": {
        "id": "03tc98JBkOYV",
        "colab_type": "code",
        "colab": {
          "base_uri": "https://localhost:8080/",
          "height": 35
        },
        "outputId": "745a891c-e18b-462a-c027-6c1ca2eaa371"
      },
      "cell_type": "code",
      "source": [
        "m[2:5]"
      ],
      "execution_count": 46,
      "outputs": [
        {
          "output_type": "execute_result",
          "data": {
            "text/plain": [
              "array([2.28571429, 2.92857143, 3.57142857])"
            ]
          },
          "metadata": {
            "tags": []
          },
          "execution_count": 46
        }
      ]
    },
    {
      "metadata": {
        "id": "aHS2J0S2kQN5",
        "colab_type": "code",
        "colab": {}
      },
      "cell_type": "code",
      "source": [
        "m[:6:2] = 100 #here value from 0 to 5 and its step is 2 and changing value will be 100."
      ],
      "execution_count": 0,
      "outputs": []
    },
    {
      "metadata": {
        "id": "nm_BYux0kfZ8",
        "colab_type": "code",
        "colab": {
          "base_uri": "https://localhost:8080/",
          "height": 87
        },
        "outputId": "3309a5ad-dacd-4700-b35f-668ee7faac5b"
      },
      "cell_type": "code",
      "source": [
        "m"
      ],
      "execution_count": 50,
      "outputs": [
        {
          "output_type": "execute_result",
          "data": {
            "text/plain": [
              "array([100.        ,   1.64285714, 100.        ,   2.92857143,\n",
              "       100.        ,   4.21428571,   4.85714286,   5.5       ,\n",
              "         6.14285714,   6.78571429,   7.42857143,   8.07142857,\n",
              "         8.71428571,   9.35714286,  10.        ])"
            ]
          },
          "metadata": {
            "tags": []
          },
          "execution_count": 50
        }
      ]
    },
    {
      "metadata": {
        "id": "G91oQTQxkouo",
        "colab_type": "code",
        "colab": {
          "base_uri": "https://localhost:8080/",
          "height": 87
        },
        "outputId": "8b891283-647b-425c-b23e-1dcf5c615e20"
      },
      "cell_type": "code",
      "source": [
        "m[::-1]"
      ],
      "execution_count": 51,
      "outputs": [
        {
          "output_type": "execute_result",
          "data": {
            "text/plain": [
              "array([ 10.        ,   9.35714286,   8.71428571,   8.07142857,\n",
              "         7.42857143,   6.78571429,   6.14285714,   5.5       ,\n",
              "         4.85714286,   4.21428571, 100.        ,   2.92857143,\n",
              "       100.        ,   1.64285714, 100.        ])"
            ]
          },
          "metadata": {
            "tags": []
          },
          "execution_count": 51
        }
      ]
    },
    {
      "metadata": {
        "id": "1uIbuUvqk-Xa",
        "colab_type": "code",
        "colab": {
          "base_uri": "https://localhost:8080/",
          "height": 87
        },
        "outputId": "92021e68-d893-48ed-b0ff-1828c872372e"
      },
      "cell_type": "code",
      "source": [
        "m # it's value changed because of line number 49."
      ],
      "execution_count": 53,
      "outputs": [
        {
          "output_type": "execute_result",
          "data": {
            "text/plain": [
              "array([100.        ,   1.64285714, 100.        ,   2.92857143,\n",
              "       100.        ,   4.21428571,   4.85714286,   5.5       ,\n",
              "         6.14285714,   6.78571429,   7.42857143,   8.07142857,\n",
              "         8.71428571,   9.35714286,  10.        ])"
            ]
          },
          "metadata": {
            "tags": []
          },
          "execution_count": 53
        }
      ]
    },
    {
      "metadata": {
        "id": "tgEwoBN_lEmf",
        "colab_type": "code",
        "colab": {}
      },
      "cell_type": "code",
      "source": [
        ""
      ],
      "execution_count": 0,
      "outputs": []
    },
    {
      "metadata": {
        "id": "K5gnbvExlYZo",
        "colab_type": "text"
      },
      "cell_type": "markdown",
      "source": [
        "* **Multi-Dimensional arrays** can have one index per axis.those indices are given in a tuple sperated by comma."
      ]
    },
    {
      "metadata": {
        "id": "GMtbaVXHluK1",
        "colab_type": "code",
        "colab": {}
      },
      "cell_type": "code",
      "source": [
        "n = np.arange(20).reshape(5,4)"
      ],
      "execution_count": 0,
      "outputs": []
    },
    {
      "metadata": {
        "id": "4PCpI1mhl2Id",
        "colab_type": "code",
        "colab": {
          "base_uri": "https://localhost:8080/",
          "height": 104
        },
        "outputId": "0edb69d5-29d1-4f4e-982b-29ba244061f1"
      },
      "cell_type": "code",
      "source": [
        "n"
      ],
      "execution_count": 55,
      "outputs": [
        {
          "output_type": "execute_result",
          "data": {
            "text/plain": [
              "array([[ 0,  1,  2,  3],\n",
              "       [ 4,  5,  6,  7],\n",
              "       [ 8,  9, 10, 11],\n",
              "       [12, 13, 14, 15],\n",
              "       [16, 17, 18, 19]])"
            ]
          },
          "metadata": {
            "tags": []
          },
          "execution_count": 55
        }
      ]
    },
    {
      "metadata": {
        "id": "oJTTmNfal2yR",
        "colab_type": "code",
        "colab": {
          "base_uri": "https://localhost:8080/",
          "height": 35
        },
        "outputId": "4d3c5ee6-ea7a-464c-bd72-d09e52152f59"
      },
      "cell_type": "code",
      "source": [
        "n.shape"
      ],
      "execution_count": 58,
      "outputs": [
        {
          "output_type": "execute_result",
          "data": {
            "text/plain": [
              "(5, 4)"
            ]
          },
          "metadata": {
            "tags": []
          },
          "execution_count": 58
        }
      ]
    },
    {
      "metadata": {
        "id": "_6zElWwgl5Jk",
        "colab_type": "code",
        "colab": {
          "base_uri": "https://localhost:8080/",
          "height": 52
        },
        "outputId": "f72e9c99-5b73-4f2d-80a8-d8f4cc2e3ed9"
      },
      "cell_type": "code",
      "source": [
        "n[2:4,1:3]"
      ],
      "execution_count": 60,
      "outputs": [
        {
          "output_type": "execute_result",
          "data": {
            "text/plain": [
              "array([[ 9, 10],\n",
              "       [13, 14]])"
            ]
          },
          "metadata": {
            "tags": []
          },
          "execution_count": 60
        }
      ]
    },
    {
      "metadata": {
        "id": "U4S558JzmM4L",
        "colab_type": "code",
        "colab": {
          "base_uri": "https://localhost:8080/",
          "height": 35
        },
        "outputId": "b64863a0-0728-485d-f16b-e6f0389ff0c7"
      },
      "cell_type": "code",
      "source": [
        "n[2,3]"
      ],
      "execution_count": 61,
      "outputs": [
        {
          "output_type": "execute_result",
          "data": {
            "text/plain": [
              "11"
            ]
          },
          "metadata": {
            "tags": []
          },
          "execution_count": 61
        }
      ]
    },
    {
      "metadata": {
        "id": "yZYF_j_XnJL_",
        "colab_type": "code",
        "colab": {
          "base_uri": "https://localhost:8080/",
          "height": 35
        },
        "outputId": "ea51ad35-c365-4702-8429-df7d5b376ad2"
      },
      "cell_type": "code",
      "source": [
        "n[0:3,1]"
      ],
      "execution_count": 62,
      "outputs": [
        {
          "output_type": "execute_result",
          "data": {
            "text/plain": [
              "array([1, 5, 9])"
            ]
          },
          "metadata": {
            "tags": []
          },
          "execution_count": 62
        }
      ]
    },
    {
      "metadata": {
        "id": "7wFW0VdEnNkT",
        "colab_type": "code",
        "colab": {
          "base_uri": "https://localhost:8080/",
          "height": 35
        },
        "outputId": "f0961db7-bbad-42c3-c208-f2220e5aeec5"
      },
      "cell_type": "code",
      "source": [
        "n[:,1]"
      ],
      "execution_count": 65,
      "outputs": [
        {
          "output_type": "execute_result",
          "data": {
            "text/plain": [
              "array([ 1,  5,  9, 13, 17])"
            ]
          },
          "metadata": {
            "tags": []
          },
          "execution_count": 65
        }
      ]
    },
    {
      "metadata": {
        "id": "hs6a0dehnR9s",
        "colab_type": "code",
        "colab": {
          "base_uri": "https://localhost:8080/",
          "height": 52
        },
        "outputId": "7ae353d9-6034-4919-fdc5-12d0a1b69c27"
      },
      "cell_type": "code",
      "source": [
        "n[1:3,:]"
      ],
      "execution_count": 66,
      "outputs": [
        {
          "output_type": "execute_result",
          "data": {
            "text/plain": [
              "array([[ 4,  5,  6,  7],\n",
              "       [ 8,  9, 10, 11]])"
            ]
          },
          "metadata": {
            "tags": []
          },
          "execution_count": 66
        }
      ]
    },
    {
      "metadata": {
        "id": "0rtjKf-2njRV",
        "colab_type": "code",
        "colab": {
          "base_uri": "https://localhost:8080/",
          "height": 52
        },
        "outputId": "b181c774-4a49-4066-c3af-38f1b555f89d"
      },
      "cell_type": "code",
      "source": [
        "n[1:3,...]  #here ... works as : it works as previous step."
      ],
      "execution_count": 69,
      "outputs": [
        {
          "output_type": "execute_result",
          "data": {
            "text/plain": [
              "array([[ 4,  5,  6,  7],\n",
              "       [ 8,  9, 10, 11]])"
            ]
          },
          "metadata": {
            "tags": []
          },
          "execution_count": 69
        }
      ]
    },
    {
      "metadata": {
        "id": "TP2JNmEvnfgi",
        "colab_type": "code",
        "colab": {
          "base_uri": "https://localhost:8080/",
          "height": 35
        },
        "outputId": "a0347550-8869-4068-eee5-b8fac3722b50"
      },
      "cell_type": "code",
      "source": [
        "n[-1]"
      ],
      "execution_count": 70,
      "outputs": [
        {
          "output_type": "execute_result",
          "data": {
            "text/plain": [
              "array([16, 17, 18, 19])"
            ]
          },
          "metadata": {
            "tags": []
          },
          "execution_count": 70
        }
      ]
    },
    {
      "metadata": {
        "id": "zThLOuk3nzSf",
        "colab_type": "code",
        "colab": {
          "base_uri": "https://localhost:8080/",
          "height": 208
        },
        "outputId": "031d801b-b8bb-45ca-d2b5-7782b76d3b2c"
      },
      "cell_type": "code",
      "source": [
        "p = np.arange(45).reshape(3,3,5)\n",
        "p"
      ],
      "execution_count": 71,
      "outputs": [
        {
          "output_type": "execute_result",
          "data": {
            "text/plain": [
              "array([[[ 0,  1,  2,  3,  4],\n",
              "        [ 5,  6,  7,  8,  9],\n",
              "        [10, 11, 12, 13, 14]],\n",
              "\n",
              "       [[15, 16, 17, 18, 19],\n",
              "        [20, 21, 22, 23, 24],\n",
              "        [25, 26, 27, 28, 29]],\n",
              "\n",
              "       [[30, 31, 32, 33, 34],\n",
              "        [35, 36, 37, 38, 39],\n",
              "        [40, 41, 42, 43, 44]]])"
            ]
          },
          "metadata": {
            "tags": []
          },
          "execution_count": 71
        }
      ]
    },
    {
      "metadata": {
        "id": "IJskfxh6o60U",
        "colab_type": "code",
        "colab": {
          "base_uri": "https://localhost:8080/",
          "height": 35
        },
        "outputId": "b02e95ef-965b-46b0-b014-0a120808618d"
      },
      "cell_type": "code",
      "source": [
        "p.shape"
      ],
      "execution_count": 74,
      "outputs": [
        {
          "output_type": "execute_result",
          "data": {
            "text/plain": [
              "(3, 3, 5)"
            ]
          },
          "metadata": {
            "tags": []
          },
          "execution_count": 74
        }
      ]
    },
    {
      "metadata": {
        "id": "ypOnRgplotSm",
        "colab_type": "code",
        "colab": {
          "base_uri": "https://localhost:8080/",
          "height": 69
        },
        "outputId": "278c236b-7efe-4528-b985-694a2a4bf81a"
      },
      "cell_type": "code",
      "source": [
        "p[1]"
      ],
      "execution_count": 72,
      "outputs": [
        {
          "output_type": "execute_result",
          "data": {
            "text/plain": [
              "array([[15, 16, 17, 18, 19],\n",
              "       [20, 21, 22, 23, 24],\n",
              "       [25, 26, 27, 28, 29]])"
            ]
          },
          "metadata": {
            "tags": []
          },
          "execution_count": 72
        }
      ]
    },
    {
      "metadata": {
        "id": "khNdJ9zBovrt",
        "colab_type": "code",
        "colab": {
          "base_uri": "https://localhost:8080/",
          "height": 52
        },
        "outputId": "d0dedd41-63f7-4c44-fb2f-d5ffa13d0063"
      },
      "cell_type": "code",
      "source": [
        "p[1,1:,1:3]"
      ],
      "execution_count": 73,
      "outputs": [
        {
          "output_type": "execute_result",
          "data": {
            "text/plain": [
              "array([[21, 22],\n",
              "       [26, 27]])"
            ]
          },
          "metadata": {
            "tags": []
          },
          "execution_count": 73
        }
      ]
    },
    {
      "metadata": {
        "id": "6dTuT4X_o24s",
        "colab_type": "code",
        "colab": {
          "base_uri": "https://localhost:8080/",
          "height": 69
        },
        "outputId": "ab1a60f0-07f0-405a-ea99-6c7c04052de6"
      },
      "cell_type": "code",
      "source": [
        "p[2,0:,3:]"
      ],
      "execution_count": 76,
      "outputs": [
        {
          "output_type": "execute_result",
          "data": {
            "text/plain": [
              "array([[33, 34],\n",
              "       [38, 39],\n",
              "       [43, 44]])"
            ]
          },
          "metadata": {
            "tags": []
          },
          "execution_count": 76
        }
      ]
    },
    {
      "metadata": {
        "id": "XCyLo88TpXLA",
        "colab_type": "code",
        "colab": {}
      },
      "cell_type": "code",
      "source": [
        ""
      ],
      "execution_count": 0,
      "outputs": []
    },
    {
      "metadata": {
        "id": "hnHkxKG3p9Ge",
        "colab_type": "text"
      },
      "cell_type": "markdown",
      "source": [
        "* **Iterating ** over mutli-dimensional array"
      ]
    },
    {
      "metadata": {
        "id": "7QvkdUqCqEq8",
        "colab_type": "code",
        "colab": {
          "base_uri": "https://localhost:8080/",
          "height": 208
        },
        "outputId": "fc3c2729-b760-4e46-b0ca-fcf7478ef563"
      },
      "cell_type": "code",
      "source": [
        "p"
      ],
      "execution_count": 77,
      "outputs": [
        {
          "output_type": "execute_result",
          "data": {
            "text/plain": [
              "array([[[ 0,  1,  2,  3,  4],\n",
              "        [ 5,  6,  7,  8,  9],\n",
              "        [10, 11, 12, 13, 14]],\n",
              "\n",
              "       [[15, 16, 17, 18, 19],\n",
              "        [20, 21, 22, 23, 24],\n",
              "        [25, 26, 27, 28, 29]],\n",
              "\n",
              "       [[30, 31, 32, 33, 34],\n",
              "        [35, 36, 37, 38, 39],\n",
              "        [40, 41, 42, 43, 44]]])"
            ]
          },
          "metadata": {
            "tags": []
          },
          "execution_count": 77
        }
      ]
    },
    {
      "metadata": {
        "id": "laEucH4aqIaR",
        "colab_type": "code",
        "colab": {
          "base_uri": "https://localhost:8080/",
          "height": 381
        },
        "outputId": "6312953a-0af9-4cee-c8ca-c5945adddb55"
      },
      "cell_type": "code",
      "source": [
        "for axis0 in p:\n",
        "  print(\"*\" * 10)\n",
        "  for axis1 in axis0:\n",
        "    print(axis1)\n",
        "    print(\"-\" * 10)"
      ],
      "execution_count": 81,
      "outputs": [
        {
          "output_type": "stream",
          "text": [
            "**********\n",
            "[0 1 2 3 4]\n",
            "----------\n",
            "[5 6 7 8 9]\n",
            "----------\n",
            "[10 11 12 13 14]\n",
            "----------\n",
            "**********\n",
            "[15 16 17 18 19]\n",
            "----------\n",
            "[20 21 22 23 24]\n",
            "----------\n",
            "[25 26 27 28 29]\n",
            "----------\n",
            "**********\n",
            "[30 31 32 33 34]\n",
            "----------\n",
            "[35 36 37 38 39]\n",
            "----------\n",
            "[40 41 42 43 44]\n",
            "----------\n"
          ],
          "name": "stdout"
        }
      ]
    },
    {
      "metadata": {
        "id": "0CrU6AY5qeOv",
        "colab_type": "code",
        "colab": {
          "base_uri": "https://localhost:8080/",
          "height": 433
        },
        "outputId": "5c65eb09-fd95-4e0f-8559-343649e7da0c"
      },
      "cell_type": "code",
      "source": [
        "for i in range(3):\n",
        "  print(\"Department \",i)\n",
        "  print(\"----------\")\n",
        "  for j in range(3):\n",
        "    print(\"Employee \",j)\n",
        "    print(p[i,j])"
      ],
      "execution_count": 84,
      "outputs": [
        {
          "output_type": "stream",
          "text": [
            "Department  0\n",
            "----------\n",
            "Employee  0\n",
            "[0 1 2 3 4]\n",
            "Employee  1\n",
            "[5 6 7 8 9]\n",
            "Employee  2\n",
            "[10 11 12 13 14]\n",
            "Department  1\n",
            "----------\n",
            "Employee  0\n",
            "[15 16 17 18 19]\n",
            "Employee  1\n",
            "[20 21 22 23 24]\n",
            "Employee  2\n",
            "[25 26 27 28 29]\n",
            "Department  2\n",
            "----------\n",
            "Employee  0\n",
            "[30 31 32 33 34]\n",
            "Employee  1\n",
            "[35 36 37 38 39]\n",
            "Employee  2\n",
            "[40 41 42 43 44]\n"
          ],
          "name": "stdout"
        }
      ]
    },
    {
      "metadata": {
        "id": "jOhMHf6zsIge",
        "colab_type": "code",
        "colab": {
          "base_uri": "https://localhost:8080/",
          "height": 35
        },
        "outputId": "2741f8b1-bb6a-4334-9129-3297623f03fe"
      },
      "cell_type": "code",
      "source": [
        "p.flat"
      ],
      "execution_count": 85,
      "outputs": [
        {
          "output_type": "execute_result",
          "data": {
            "text/plain": [
              "<numpy.flatiter at 0x4a4a200>"
            ]
          },
          "metadata": {
            "tags": []
          },
          "execution_count": 85
        }
      ]
    },
    {
      "metadata": {
        "id": "PIb4p96mtJ5s",
        "colab_type": "code",
        "colab": {
          "base_uri": "https://localhost:8080/",
          "height": 797
        },
        "outputId": "81bd315e-467b-4149-ef40-6f1c4320a106"
      },
      "cell_type": "code",
      "source": [
        "for em in p.flat:\n",
        "  print(em)"
      ],
      "execution_count": 86,
      "outputs": [
        {
          "output_type": "stream",
          "text": [
            "0\n",
            "1\n",
            "2\n",
            "3\n",
            "4\n",
            "5\n",
            "6\n",
            "7\n",
            "8\n",
            "9\n",
            "10\n",
            "11\n",
            "12\n",
            "13\n",
            "14\n",
            "15\n",
            "16\n",
            "17\n",
            "18\n",
            "19\n",
            "20\n",
            "21\n",
            "22\n",
            "23\n",
            "24\n",
            "25\n",
            "26\n",
            "27\n",
            "28\n",
            "29\n",
            "30\n",
            "31\n",
            "32\n",
            "33\n",
            "34\n",
            "35\n",
            "36\n",
            "37\n",
            "38\n",
            "39\n",
            "40\n",
            "41\n",
            "42\n",
            "43\n",
            "44\n"
          ],
          "name": "stdout"
        }
      ]
    },
    {
      "metadata": {
        "id": "OPNtzLBntThl",
        "colab_type": "code",
        "colab": {}
      },
      "cell_type": "code",
      "source": [
        ""
      ],
      "execution_count": 0,
      "outputs": []
    },
    {
      "metadata": {
        "id": "dagl_T_2tU5g",
        "colab_type": "text"
      },
      "cell_type": "markdown",
      "source": [
        "# shape manipulation\n",
        "**changing shape of an array**"
      ]
    },
    {
      "metadata": {
        "id": "5AWJFq69tX8t",
        "colab_type": "code",
        "colab": {
          "base_uri": "https://localhost:8080/",
          "height": 87
        },
        "outputId": "944acb23-ee41-4256-af1a-9b9de93c3a6f"
      },
      "cell_type": "code",
      "source": [
        "l = np.floor(18*np.random.randn(3,4))\n",
        "print(l)\n",
        "print(l.shape)"
      ],
      "execution_count": 101,
      "outputs": [
        {
          "output_type": "stream",
          "text": [
            "[[-30.  -5.   2.  -8.]\n",
            " [ 38. -11.  14. -13.]\n",
            " [-22.  34.  -6.  22.]]\n",
            "(3, 4)\n"
          ],
          "name": "stdout"
        }
      ]
    },
    {
      "metadata": {
        "id": "37SsMJTBtu-7",
        "colab_type": "code",
        "colab": {
          "base_uri": "https://localhost:8080/",
          "height": 52
        },
        "outputId": "a609bb5d-5ef5-4f58-c1e0-d3be4d7da8a3"
      },
      "cell_type": "code",
      "source": [
        "l.ravel() #it will return the list"
      ],
      "execution_count": 102,
      "outputs": [
        {
          "output_type": "execute_result",
          "data": {
            "text/plain": [
              "array([-30.,  -5.,   2.,  -8.,  38., -11.,  14., -13., -22.,  34.,  -6.,\n",
              "        22.])"
            ]
          },
          "metadata": {
            "tags": []
          },
          "execution_count": 102
        }
      ]
    },
    {
      "metadata": {
        "id": "rv3UwPOJt3u0",
        "colab_type": "code",
        "colab": {
          "base_uri": "https://localhost:8080/",
          "height": 121
        },
        "outputId": "36dd7b43-a848-4088-d9c9-12ab4e04433b"
      },
      "cell_type": "code",
      "source": [
        "l.ravel().reshape(6,2)"
      ],
      "execution_count": 103,
      "outputs": [
        {
          "output_type": "execute_result",
          "data": {
            "text/plain": [
              "array([[-30.,  -5.],\n",
              "       [  2.,  -8.],\n",
              "       [ 38., -11.],\n",
              "       [ 14., -13.],\n",
              "       [-22.,  34.],\n",
              "       [ -6.,  22.]])"
            ]
          },
          "metadata": {
            "tags": []
          },
          "execution_count": 103
        }
      ]
    },
    {
      "metadata": {
        "id": "PNaE-CwTuCk8",
        "colab_type": "code",
        "colab": {
          "base_uri": "https://localhost:8080/",
          "height": 87
        },
        "outputId": "09a90a82-75c4-4268-a28c-7daef922888a"
      },
      "cell_type": "code",
      "source": [
        "l.T #it will be transition matrix means row  will be column and column will be row"
      ],
      "execution_count": 104,
      "outputs": [
        {
          "output_type": "execute_result",
          "data": {
            "text/plain": [
              "array([[-30.,  38., -22.],\n",
              "       [ -5., -11.,  34.],\n",
              "       [  2.,  14.,  -6.],\n",
              "       [ -8., -13.,  22.]])"
            ]
          },
          "metadata": {
            "tags": []
          },
          "execution_count": 104
        }
      ]
    },
    {
      "metadata": {
        "id": "dLuS86_buvPU",
        "colab_type": "code",
        "colab": {
          "base_uri": "https://localhost:8080/",
          "height": 69
        },
        "outputId": "707bfb19-94d4-48ee-a28c-34a52789ff4c"
      },
      "cell_type": "code",
      "source": [
        "l"
      ],
      "execution_count": 105,
      "outputs": [
        {
          "output_type": "execute_result",
          "data": {
            "text/plain": [
              "array([[-30.,  -5.,   2.,  -8.],\n",
              "       [ 38., -11.,  14., -13.],\n",
              "       [-22.,  34.,  -6.,  22.]])"
            ]
          },
          "metadata": {
            "tags": []
          },
          "execution_count": 105
        }
      ]
    },
    {
      "metadata": {
        "id": "xqN_hsb1vRE6",
        "colab_type": "code",
        "colab": {
          "base_uri": "https://localhost:8080/",
          "height": 35
        },
        "outputId": "e209b8aa-e2f5-4fd2-c87e-21f39a21b6fc"
      },
      "cell_type": "code",
      "source": [
        "l.shape"
      ],
      "execution_count": 106,
      "outputs": [
        {
          "output_type": "execute_result",
          "data": {
            "text/plain": [
              "(3, 4)"
            ]
          },
          "metadata": {
            "tags": []
          },
          "execution_count": 106
        }
      ]
    },
    {
      "metadata": {
        "id": "q4uJzsLnuIr8",
        "colab_type": "code",
        "colab": {}
      },
      "cell_type": "code",
      "source": [
        "l.resize(2,6) #resize() using this the matrix shape will be changed but in reshape() we see thatmain matrix shape don't change when we reshape but in resize () it will happen. "
      ],
      "execution_count": 0,
      "outputs": []
    },
    {
      "metadata": {
        "id": "gFIvxpX3u-Bi",
        "colab_type": "code",
        "colab": {
          "base_uri": "https://localhost:8080/",
          "height": 52
        },
        "outputId": "95c05d92-596f-4976-a04e-bd35df37d255"
      },
      "cell_type": "code",
      "source": [
        "l # so the shape of l changed permanantly"
      ],
      "execution_count": 108,
      "outputs": [
        {
          "output_type": "execute_result",
          "data": {
            "text/plain": [
              "array([[-30.,  -5.,   2.,  -8.,  38., -11.],\n",
              "       [ 14., -13., -22.,  34.,  -6.,  22.]])"
            ]
          },
          "metadata": {
            "tags": []
          },
          "execution_count": 108
        }
      ]
    },
    {
      "metadata": {
        "id": "Z9Drf22HvEOZ",
        "colab_type": "code",
        "colab": {
          "base_uri": "https://localhost:8080/",
          "height": 35
        },
        "outputId": "777a9e01-f11e-4e46-c4c3-bba02a747e90"
      },
      "cell_type": "code",
      "source": [
        "l.shape"
      ],
      "execution_count": 109,
      "outputs": [
        {
          "output_type": "execute_result",
          "data": {
            "text/plain": [
              "(2, 6)"
            ]
          },
          "metadata": {
            "tags": []
          },
          "execution_count": 109
        }
      ]
    },
    {
      "metadata": {
        "id": "vheAU-OEvfZl",
        "colab_type": "code",
        "colab": {}
      },
      "cell_type": "code",
      "source": [
        ""
      ],
      "execution_count": 0,
      "outputs": []
    }
  ]
}